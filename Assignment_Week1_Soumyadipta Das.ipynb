{
 "cells": [
  {
   "cell_type": "code",
   "execution_count": 15,
   "metadata": {},
   "outputs": [
    {
     "name": "stdout",
     "output_type": "stream",
     "text": [
      "SOUMYADIPTA\n",
      "[1, 2, 3, 'soumya', True, 44.6]\n",
      "33.6\n",
      "(1, 2, 'soumya', 39.3)\n"
     ]
    }
   ],
   "source": [
    "#Ans1\n",
    "a = 'SOUMYADIPTA'\n",
    "print (a)\n",
    "b = [1,2,3,'soumya',True,44.6]\n",
    "print (b)\n",
    "c = 33.6\n",
    "print (c)\n",
    "d = (1,2,'soumya',39.3)\n",
    "print (d)"
   ]
  },
  {
   "cell_type": "code",
   "execution_count": 1,
   "metadata": {},
   "outputs": [
    {
     "name": "stdout",
     "output_type": "stream",
     "text": [
      "<class 'str'>\n",
      "<class 'str'>\n",
      "<class 'list'>\n",
      "<class 'int'>\n"
     ]
    }
   ],
   "source": [
    "#Ans2\n",
    "var1 = ''\n",
    "print (type (var1))\n",
    "var2 = '[DS , ML , Python]'\n",
    "print (type (var2))\n",
    "var3 = ['DS', 'ML', 'Python']\n",
    "print (type (var3))\n",
    "var4 = 1\n",
    "print (type (var4))"
   ]
  },
  {
   "cell_type": "code",
   "execution_count": 2,
   "metadata": {},
   "outputs": [
    {
     "name": "stdout",
     "output_type": "stream",
     "text": [
      "4.0\n",
      "3\n",
      "3\n",
      "256\n"
     ]
    }
   ],
   "source": [
    "#Ans3\n",
    "a = 16/4 #Division operator\n",
    "print (a)\n",
    "b = 15%4 #Modulus operator\n",
    "print (b)\n",
    "c = 15//4 #Quotient or Floor operator\n",
    "print (c)\n",
    "d = 4**4 #Exponet operator\n",
    "print (d)\n"
   ]
  },
  {
   "cell_type": "code",
   "execution_count": 3,
   "metadata": {},
   "outputs": [
    {
     "name": "stdout",
     "output_type": "stream",
     "text": [
      "1\n",
      "<class 'int'>\n",
      "2\n",
      "<class 'int'>\n",
      "3\n",
      "<class 'int'>\n",
      "4\n",
      "<class 'int'>\n",
      "SD\n",
      "<class 'str'>\n",
      "True\n",
      "<class 'bool'>\n",
      "33.4\n",
      "<class 'float'>\n",
      "9\n",
      "<class 'int'>\n",
      "10\n",
      "<class 'int'>\n",
      "11\n",
      "<class 'int'>\n",
      "12\n",
      "<class 'int'>\n"
     ]
    }
   ],
   "source": [
    "#Ans4\n",
    "l = [1,2,3,4,'SD',True,33.4,9,10,11,12]\n",
    "for a in l:\n",
    "    print (a)\n",
    "    print (type(a))\n",
    "\n"
   ]
  },
  {
   "cell_type": "code",
   "execution_count": 1,
   "metadata": {},
   "outputs": [
    {
     "name": "stdout",
     "output_type": "stream",
     "text": [
      "12\n",
      "The number is purely divisible\n",
      "6\n",
      "The number is purely divisible\n",
      "4\n",
      "The number is purely divisible\n",
      "3\n",
      "The number is purely divisible\n",
      "2\n",
      "The number is not purely divisible\n",
      "2\n",
      "The number is purely divisible\n",
      "1\n",
      "The number is not purely divisible\n",
      "1\n",
      "The number is not purely divisible\n",
      "1\n",
      "The number is not purely divisible\n",
      "1\n",
      "The number is not purely divisible\n",
      "1\n",
      "The number is not purely divisible\n",
      "1\n",
      "The number is purely divisible\n"
     ]
    }
   ],
   "source": [
    "#Ans5\n",
    "A = 12\n",
    "B = 1\n",
    "while B <= A:\n",
    "    c = A//B\n",
    "    print (c)\n",
    "    d = A%B\n",
    "    if d == 0:\n",
    "        print ('The number is purely divisible')\n",
    "        B += 1\n",
    "    elif d != 0:\n",
    "        print ('The number is not purely divisible')\n",
    "        B += 1\n",
    "    else:\n",
    "        print ('END!')"
   ]
  },
  {
   "cell_type": "code",
   "execution_count": 1,
   "metadata": {},
   "outputs": [
    {
     "name": "stdout",
     "output_type": "stream",
     "text": [
      "1\n",
      "This number is not divisibly by 3\n",
      "2\n",
      "This number is not divisibly by 3\n",
      "3\n",
      "This number is divisible by 3\n",
      "4\n",
      "This number is not divisibly by 3\n",
      "5\n",
      "This number is not divisibly by 3\n",
      "6\n",
      "This number is divisible by 3\n",
      "7\n",
      "This number is not divisibly by 3\n",
      "8\n",
      "This number is not divisibly by 3\n",
      "9\n",
      "This number is divisible by 3\n",
      "10\n",
      "This number is not divisibly by 3\n",
      "11\n",
      "This number is not divisibly by 3\n",
      "12\n",
      "This number is divisible by 3\n",
      "13\n",
      "This number is not divisibly by 3\n",
      "14\n",
      "This number is not divisibly by 3\n",
      "15\n",
      "This number is divisible by 3\n",
      "16\n",
      "This number is not divisibly by 3\n",
      "17\n",
      "This number is not divisibly by 3\n",
      "18\n",
      "This number is divisible by 3\n",
      "19\n",
      "This number is not divisibly by 3\n",
      "20\n",
      "This number is not divisibly by 3\n",
      "21\n",
      "This number is divisible by 3\n",
      "22\n",
      "This number is not divisibly by 3\n",
      "23\n",
      "This number is not divisibly by 3\n",
      "24\n",
      "This number is divisible by 3\n",
      "25\n",
      "This number is not divisibly by 3\n"
     ]
    }
   ],
   "source": [
    "#Ans6\n",
    "l = [1,2,3,4,5,6,7,8,9,10,11,12,13,14,15,16,17,18,19,20,21,22,23,24,25]\n",
    "for i in l:\n",
    "    print (i)\n",
    "    a = i % 3\n",
    "    if a == 0:\n",
    "        print ('This number is divisible by 3')\n",
    "    elif a != 0:\n",
    "        print ('This number is not divisibly by 3')\n",
    "    else:\n",
    "        print ('End!')"
   ]
  },
  {
   "cell_type": "code",
   "execution_count": 2,
   "metadata": {},
   "outputs": [
    {
     "name": "stdout",
     "output_type": "stream",
     "text": [
      "[1, 4, 'SD', 45.6, False]\n"
     ]
    },
    {
     "ename": "TypeError",
     "evalue": "'str' object does not support item assignment",
     "output_type": "error",
     "traceback": [
      "\u001b[1;31m---------------------------------------------------------------------------\u001b[0m",
      "\u001b[1;31mTypeError\u001b[0m                                 Traceback (most recent call last)",
      "Cell \u001b[1;32mIn[2], line 6\u001b[0m\n\u001b[0;32m      4\u001b[0m \u001b[39mprint\u001b[39m (l)\n\u001b[0;32m      5\u001b[0m a \u001b[39m=\u001b[39m \u001b[39m'\u001b[39m\u001b[39mSOUMYA\u001b[39m\u001b[39m'\u001b[39m\n\u001b[1;32m----> 6\u001b[0m a[\u001b[39m-\u001b[39;49m\u001b[39m1\u001b[39;49m] \u001b[39m=\u001b[39m \u001b[39m'\u001b[39m\u001b[39mO\u001b[39m\u001b[39m'\u001b[39m \u001b[39m#Strings are immutable i.e., a perticular letter(s) in a string can't be altered, hence are immuatble\u001b[39;00m\n\u001b[0;32m      7\u001b[0m \u001b[39mprint\u001b[39m (a)\n",
      "\u001b[1;31mTypeError\u001b[0m: 'str' object does not support item assignment"
     ]
    }
   ],
   "source": [
    "#Ans7\n",
    "l = [1,4,'SD',45.6,True]\n",
    "l[4] = False #Elements in a list are mutable i.e., a perticular element(s) can be alterd in a list by giving the index position of the element\n",
    "print (l)\n",
    "a = 'SOUMYA'\n",
    "a[-1] = 'O' #Strings are immutable i.e., a perticular letter(s) in a string can't be altered, hence are immuatble\n",
    "print (a)"
   ]
  }
 ],
 "metadata": {
  "kernelspec": {
   "display_name": "Python 3",
   "language": "python",
   "name": "python3"
  },
  "language_info": {
   "codemirror_mode": {
    "name": "ipython",
    "version": 3
   },
   "file_extension": ".py",
   "mimetype": "text/x-python",
   "name": "python",
   "nbconvert_exporter": "python",
   "pygments_lexer": "ipython3",
   "version": "3.11.4"
  },
  "orig_nbformat": 4
 },
 "nbformat": 4,
 "nbformat_minor": 2
}
