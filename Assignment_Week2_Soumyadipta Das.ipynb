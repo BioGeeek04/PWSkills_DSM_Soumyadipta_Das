{
 "cells": [
  {
   "cell_type": "code",
   "execution_count": 6,
   "metadata": {},
   "outputs": [],
   "source": [
    "#Ans1\n",
    "#In Python, there are two main types of comments: \n",
    "# 1 - Single-line comments: Use the '#' symbol. \n",
    "# 2 - Multi-line comments: Use triple-quoted strings (''' or \"\"\") or consecutive single-line comments."
   ]
  },
  {
   "cell_type": "code",
   "execution_count": null,
   "metadata": {},
   "outputs": [],
   "source": [
    "#Ans2\n",
    "#In Python, variables are elements which store data values which can be anything (integer, string, float, boolean, list, etc.,) with the help of an assignment operatore (\"=\")\n",
    "#Examples of assignment of values:\n",
    "name = 'Soumyadipta'\n",
    "age = 25\n",
    "blood_group = 'A+'\n",
    "height = 5.11\n",
    "Education = str(input()) #We can assign values by user input also."
   ]
  },
  {
   "cell_type": "code",
   "execution_count": 5,
   "metadata": {},
   "outputs": [
    {
     "name": "stdout",
     "output_type": "stream",
     "text": [
      "<class 'int'>\n",
      "3\n",
      "<class 'str'>\n"
     ]
    }
   ],
   "source": [
    "#Ans4\n",
    "#Conversion of one data type to another: int - str\n",
    "b = 3\n",
    "t = type (b)\n",
    "print (t)\n",
    "c = str(b)\n",
    "print (c)\n",
    "t2 = type (c)\n",
    "print (t2)"
   ]
  },
  {
   "cell_type": "code",
   "execution_count": null,
   "metadata": {},
   "outputs": [],
   "source": [
    "#Ans4\n",
    "#Step1: Executing a Python script from the command line:\n",
    "\n",
    "### Writing a Python Script\n",
    "\n",
    "#1. Open a Text Editor: Use any text editor eg. Notepad to write your Python code. Save the file with a `.py` extension (e.g., `hello.py`).\n",
    "\n",
    "#2. Write Your Python Code**: For example,\n",
    "#  print(\"Hello, world!\")\n",
    "\n",
    "### Executing the Python Script\n",
    "\n",
    "#1. **Open the Command Line / Terminal**:\n",
    "\n",
    "#2. **Navigate to the Directory**: Use `cd` to go to the directory where your Python script is saved.\n",
    "\n",
    "#3. **Run the Script**: Enter `python hello.py` (replace `hello.py` with your script's name) and press Enter."
   ]
  },
  {
   "cell_type": "code",
   "execution_count": 1,
   "metadata": {},
   "outputs": [
    {
     "data": {
      "text/plain": [
       "[2, 3]"
      ]
     },
     "execution_count": 1,
     "metadata": {},
     "output_type": "execute_result"
    }
   ],
   "source": [
    "#Ans5\n",
    "my_list = [1, 2, 3, 4, 5]\n",
    "my_list[1:3]"
   ]
  },
  {
   "cell_type": "code",
   "execution_count": null,
   "metadata": {},
   "outputs": [],
   "source": [
    "#Ans6\n",
    "#In Python, complex numbers are represented using \"j\" or \"J\" for the imaginary part, like \"3 + 4j\" or \"-2.5J.\"\n",
    "#The real part can be accessed using the function real() and imaginary part can be represented by imag()."
   ]
  },
  {
   "cell_type": "code",
   "execution_count": 2,
   "metadata": {},
   "outputs": [
    {
     "name": "stdout",
     "output_type": "stream",
     "text": [
      "25\n"
     ]
    }
   ],
   "source": [
    "#Ans7\n",
    "age = 25\n",
    "print(age)"
   ]
  },
  {
   "cell_type": "code",
   "execution_count": 3,
   "metadata": {},
   "outputs": [
    {
     "data": {
      "text/plain": [
       "float"
      ]
     },
     "execution_count": 3,
     "metadata": {},
     "output_type": "execute_result"
    }
   ],
   "source": [
    "#Ans8\n",
    "price = 9.99\n",
    "#float is the data type\n",
    "type(price)"
   ]
  },
  {
   "cell_type": "code",
   "execution_count": 4,
   "metadata": {},
   "outputs": [
    {
     "name": "stdout",
     "output_type": "stream",
     "text": [
      "SOUMYADIPTA DAS\n"
     ]
    }
   ],
   "source": [
    "#Ans9\n",
    "name = 'SOUMYADIPTA DAS'\n",
    "print (name)"
   ]
  },
  {
   "cell_type": "code",
   "execution_count": 7,
   "metadata": {},
   "outputs": [
    {
     "data": {
      "text/plain": [
       "'World'"
      ]
     },
     "execution_count": 7,
     "metadata": {},
     "output_type": "execute_result"
    }
   ],
   "source": [
    "#Ans10\n",
    "s = 'Hello, World!'\n",
    "s[7:12:1]"
   ]
  },
  {
   "cell_type": "code",
   "execution_count": 8,
   "metadata": {},
   "outputs": [
    {
     "name": "stdout",
     "output_type": "stream",
     "text": [
      "False\n"
     ]
    }
   ],
   "source": [
    "#Ans11\n",
    "is_student = False\n",
    "print (is_student)"
   ]
  }
 ],
 "metadata": {
  "kernelspec": {
   "display_name": "Python 3",
   "language": "python",
   "name": "python3"
  },
  "language_info": {
   "codemirror_mode": {
    "name": "ipython",
    "version": 3
   },
   "file_extension": ".py",
   "mimetype": "text/x-python",
   "name": "python",
   "nbconvert_exporter": "python",
   "pygments_lexer": "ipython3",
   "version": "3.11.4"
  }
 },
 "nbformat": 4,
 "nbformat_minor": 2
}
